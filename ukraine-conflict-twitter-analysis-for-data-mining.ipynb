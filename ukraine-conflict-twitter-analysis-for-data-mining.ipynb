{
 "cells": [
  {
   "cell_type": "markdown",
   "metadata": {},
   "source": [
    "# 1. Imports"
   ]
  },
  {
   "cell_type": "code",
   "execution_count": null,
   "metadata": {
    "_cell_guid": "b1076dfc-b9ad-4769-8c92-a6c4dae69d19",
    "_uuid": "8f2839f25d086af736a60e9eeb907d3b93b6e0e5",
    "execution": {
     "iopub.execute_input": "2022-11-29T09:55:45.389052Z",
     "iopub.status.busy": "2022-11-29T09:55:45.388423Z",
     "iopub.status.idle": "2022-11-29T09:55:46.057514Z",
     "shell.execute_reply": "2022-11-29T09:55:46.056004Z",
     "shell.execute_reply.started": "2022-11-29T09:55:45.388942Z"
    }
   },
   "outputs": [],
   "source": [
    "from __future__ import annotations\n",
    "\n",
    "import pandas as pd\n",
    "import numpy as np\n",
    "import seaborn as sns\n",
    "import matplotlib.pyplot as plt\n",
    "\n",
    "import os\n",
    "import re\n",
    "import gc\n",
    "from tqdm.notebook import tqdm\n",
    "\n",
    "from typing import List, Union, Any\n",
    "import string\n",
    "\n",
    "import warnings\n",
    "warnings.filterwarnings(\"ignore\")"
   ]
  },
  {
   "cell_type": "markdown",
   "metadata": {},
   "source": [
    "# 2. Data Extraction"
   ]
  },
  {
   "cell_type": "markdown",
   "metadata": {},
   "source": [
    "## 2.1 Creating Empty list for csv filenames\n",
    "This csv files will be extracted into one `pandas.DataFrame`"
   ]
  },
  {
   "cell_type": "code",
   "execution_count": null,
   "metadata": {
    "execution": {
     "iopub.execute_input": "2022-11-29T09:55:46.060313Z",
     "iopub.status.busy": "2022-11-29T09:55:46.059941Z",
     "iopub.status.idle": "2022-11-29T09:55:46.065559Z",
     "shell.execute_reply": "2022-11-29T09:55:46.064480Z",
     "shell.execute_reply.started": "2022-11-29T09:55:46.060280Z"
    }
   },
   "outputs": [],
   "source": [
    "csv_collection: List[str] = []"
   ]
  },
  {
   "cell_type": "markdown",
   "metadata": {},
   "source": [
    "Extracting csv filenames into already created empty list `csv_collection`"
   ]
  },
  {
   "cell_type": "code",
   "execution_count": null,
   "metadata": {
    "execution": {
     "iopub.execute_input": "2022-11-29T09:55:46.067206Z",
     "iopub.status.busy": "2022-11-29T09:55:46.066889Z",
     "iopub.status.idle": "2022-11-29T09:55:46.176758Z",
     "shell.execute_reply": "2022-11-29T09:55:46.175933Z",
     "shell.execute_reply.started": "2022-11-29T09:55:46.067167Z"
    }
   },
   "outputs": [],
   "source": [
    "for dir_name, _, file_names in os.walk('kaggle/input/ukraine-russian-crisis-twitter-dataset-1-2-m-rows/UkraineWar/UkraineWar/'):\n",
    "    for filename in file_names:\n",
    "        fullpath = os.path.join(dir_name, filename)\n",
    "        csv_collection.append(fullpath)\n",
    "\n",
    "print(',\\n'.join(csv_collection[:5]))"
   ]
  },
  {
   "cell_type": "markdown",
   "metadata": {},
   "source": [
    "## 2.2 Loading dataset with significant events"
   ]
  },
  {
   "cell_type": "markdown",
   "metadata": {},
   "source": [
    "Due to inconsistent tweets dataset filenames format we forced to use for loop to filter `csv_collection` "
   ]
  },
  {
   "cell_type": "code",
   "execution_count": null,
   "metadata": {
    "execution": {
     "iopub.execute_input": "2022-11-29T09:55:46.322125Z",
     "iopub.status.busy": "2022-11-29T09:55:46.321723Z",
     "iopub.status.idle": "2022-11-29T09:55:46.345747Z",
     "shell.execute_reply": "2022-11-29T09:55:46.344729Z",
     "shell.execute_reply.started": "2022-11-29T09:55:46.322084Z"
    }
   },
   "outputs": [],
   "source": [
    "def extract(string: str, pattern: str):\n",
    "    return re.findall(pattern, string)"
   ]
  },
  {
   "cell_type": "markdown",
   "metadata": {},
   "source": [
    "## Create and fill dataframe\n"
   ]
  },
  {
   "cell_type": "markdown",
   "metadata": {},
   "source": [
    "We created types dict to avoid some warnings while storing data to dataframe. It is also increases loading speed."
   ]
  },
  {
   "cell_type": "code",
   "execution_count": null,
   "metadata": {
    "execution": {
     "iopub.execute_input": "2022-11-29T09:55:46.347345Z",
     "iopub.status.busy": "2022-11-29T09:55:46.347033Z",
     "iopub.status.idle": "2022-11-29T09:55:46.358856Z",
     "shell.execute_reply": "2022-11-29T09:55:46.357890Z",
     "shell.execute_reply.started": "2022-11-29T09:55:46.347318Z"
    }
   },
   "outputs": [],
   "source": [
    "types = {\n",
    "    'userid': np.uint, \n",
    "    'username': object, \n",
    "    'acctdesc': object, \n",
    "    'location': object, \n",
    "    'following': np.uintc, \n",
    "    'followers': np.uintc,\n",
    "    'totaltweets': np.uint, \n",
    "    'tweetid': np.uint, \n",
    "    'retweetcount': np.ushort, \n",
    "    'text': object, \n",
    "    'hashtags': object, \n",
    "    'language': object, \n",
    "    'coordinates': object,\n",
    "    'favorite_count': np.uintc, \n",
    "    'is_retweet': object, \n",
    "    'original_tweet_id': np.uint,\n",
    "    'original_tweet_userid': np.uint, \n",
    "    'original_tweet_username': object,\n",
    "    'in_reply_to_status_id': np.uint, \n",
    "    'in_reply_to_user_id': np.uint,\n",
    "    'in_reply_to_screen_name': object, \n",
    "    'is_quote_status': object, \n",
    "    'quoted_status_id': np.uint,\n",
    "    'quoted_status_userid': np.uint, \n",
    "    'quoted_status_username': object\n",
    "}"
   ]
  },
  {
   "cell_type": "markdown",
   "metadata": {},
   "source": [
    "# Important Note\n",
    "The dataset contains literally a lot of data (really a lot, because we waited more than 20 minutes to store all data from significant dates (approximately 60 dates). In these days was approximately 10.5M tweets.\n",
    "\n",
    "In the latest version of the notebook our team decided to view only tweets posted on the 1st of March, 2022 - the day of Kharkiv government building airstrike, day before and after it.\n",
    "\n",
    "**UPDATE** \n",
    "In the 4th version of the notebook the author of the dataset has suggested us to take into account difference in time (all times in the dataset are in UTC+0), so we will extend the time for spectating on data."
   ]
  },
  {
   "cell_type": "code",
   "execution_count": null,
   "metadata": {
    "execution": {
     "iopub.execute_input": "2022-11-29T09:55:46.360915Z",
     "iopub.status.busy": "2022-11-29T09:55:46.360535Z",
     "iopub.status.idle": "2022-11-29T09:56:11.371143Z",
     "shell.execute_reply": "2022-11-29T09:56:11.369757Z",
     "shell.execute_reply.started": "2022-11-29T09:55:46.360885Z"
    }
   },
   "outputs": [],
   "source": [
    "mar01_tweets = [csv for csv in csv_collection if \"MAR02\" in csv or \"MAR01\" in csv or \"FEB28\" in csv]\n",
    "all_tweets = pd.read_csv(mar01_tweets.pop(), compression='gzip', dtype=types)\n",
    "for csv in mar01_tweets:\n",
    "    all_tweets = pd.concat([all_tweets, pd.read_csv(csv, compression='gzip', dtype=types)])\n",
    "gc.collect()"
   ]
  },
  {
   "cell_type": "markdown",
   "metadata": {},
   "source": [
    "## Important Note\n",
    "If you want ot store a full version of the dataset into your Jupyter Notebook, please, uncomment the cell below. \n",
    "\n",
    "**Don't forget to replace `mar01_tweets` variable with `filtered_csv_collection` on previous cell.**"
   ]
  },
  {
   "cell_type": "code",
   "execution_count": null,
   "metadata": {
    "_kg_hide-input": true,
    "execution": {
     "iopub.execute_input": "2022-11-29T09:56:11.373723Z",
     "iopub.status.busy": "2022-11-29T09:56:11.373343Z",
     "iopub.status.idle": "2022-11-29T09:56:11.378543Z",
     "shell.execute_reply": "2022-11-29T09:56:11.376919Z",
     "shell.execute_reply.started": "2022-11-29T09:56:11.373691Z"
    }
   },
   "outputs": [],
   "source": [
    "# for csv in tqdm(filtered_csv_collection, desc='Files: '):\n",
    "#     temp = pd.read_csv(csv, compression='gzip', dtype=types)\n",
    "#     all_tweets = pd.concat([all_tweets, temp])\n",
    "#     del temp\n",
    "#     gc.collect()"
   ]
  },
  {
   "cell_type": "markdown",
   "metadata": {},
   "source": [
    "# 3. Data review"
   ]
  },
  {
   "cell_type": "code",
   "execution_count": null,
   "metadata": {
    "execution": {
     "iopub.execute_input": "2022-11-29T09:56:11.381234Z",
     "iopub.status.busy": "2022-11-29T09:56:11.380501Z",
     "iopub.status.idle": "2022-11-29T09:56:12.084723Z",
     "shell.execute_reply": "2022-11-29T09:56:12.083626Z",
     "shell.execute_reply.started": "2022-11-29T09:56:11.381185Z"
    }
   },
   "outputs": [],
   "source": [
    "all_tweets.info()"
   ]
  },
  {
   "cell_type": "code",
   "execution_count": null,
   "metadata": {
    "execution": {
     "iopub.execute_input": "2022-11-29T09:56:12.087072Z",
     "iopub.status.busy": "2022-11-29T09:56:12.086219Z",
     "iopub.status.idle": "2022-11-29T09:56:12.738648Z",
     "shell.execute_reply": "2022-11-29T09:56:12.737489Z",
     "shell.execute_reply.started": "2022-11-29T09:56:12.087032Z"
    }
   },
   "outputs": [],
   "source": [
    "all_tweets.isna().sum()"
   ]
  },
  {
   "cell_type": "markdown",
   "metadata": {},
   "source": [
    "The dataset contains Not a Number (NaN) values. "
   ]
  },
  {
   "cell_type": "markdown",
   "metadata": {},
   "source": [
    "\n",
    "## TODO:\n",
    "- [x] set index to `userid`\n",
    "- [x] remove `username`\n",
    "- [x] remove account description (`acctdesc`)\n",
    "- [x] remove `usercreatedts`\n",
    "- [x] parse `hashtags`\n",
    "- [x] remove `coordinates`\n",
    "- [x] remove `extractedts`\n",
    "- [x] parse `location`\n",
    "- [ ] transform time into Kyiv timezone (UTC+3 in winter and UTC+2 in summer)\n",
    "- [x] extend dataset for 2 days as we need to look at tweets before and after missile attack"
   ]
  },
  {
   "cell_type": "markdown",
   "metadata": {},
   "source": [
    "## Clearing data from dataset"
   ]
  },
  {
   "cell_type": "code",
   "execution_count": null,
   "metadata": {
    "execution": {
     "iopub.execute_input": "2022-11-29T09:56:12.740749Z",
     "iopub.status.busy": "2022-11-29T09:56:12.739955Z",
     "iopub.status.idle": "2022-11-29T09:56:14.428144Z",
     "shell.execute_reply": "2022-11-29T09:56:14.426916Z",
     "shell.execute_reply.started": "2022-11-29T09:56:12.740713Z"
    }
   },
   "outputs": [],
   "source": [
    "all_tweets = all_tweets.set_index('userid')\n",
    "all_tweets = all_tweets.drop(columns=['username', 'acctdesc', 'usercreatedts', 'coordinates', 'extractedts'])"
   ]
  },
  {
   "cell_type": "markdown",
   "metadata": {},
   "source": [
    "## Parsing hashtags"
   ]
  },
  {
   "cell_type": "markdown",
   "metadata": {},
   "source": [
    "Print an example of hashtags"
   ]
  },
  {
   "cell_type": "code",
   "execution_count": null,
   "metadata": {
    "execution": {
     "iopub.execute_input": "2022-11-29T09:56:14.430058Z",
     "iopub.status.busy": "2022-11-29T09:56:14.429607Z",
     "iopub.status.idle": "2022-11-29T09:56:14.437720Z",
     "shell.execute_reply": "2022-11-29T09:56:14.436521Z",
     "shell.execute_reply.started": "2022-11-29T09:56:14.430024Z"
    }
   },
   "outputs": [],
   "source": [
    "all_tweets['hashtags'].values[0]"
   ]
  },
  {
   "cell_type": "code",
   "execution_count": null,
   "metadata": {
    "execution": {
     "iopub.execute_input": "2022-11-29T09:56:14.440078Z",
     "iopub.status.busy": "2022-11-29T09:56:14.439381Z",
     "iopub.status.idle": "2022-11-29T09:56:18.520417Z",
     "shell.execute_reply": "2022-11-29T09:56:18.519162Z",
     "shell.execute_reply.started": "2022-11-29T09:56:14.440033Z"
    }
   },
   "outputs": [],
   "source": [
    "all_tweets['hashtags'] = all_tweets['hashtags'].apply(lambda string: extract(string, \"'text': \\'(\\S*)'\"))"
   ]
  },
  {
   "cell_type": "markdown",
   "metadata": {},
   "source": [
    "## Parsing location"
   ]
  },
  {
   "cell_type": "markdown",
   "metadata": {},
   "source": [
    "## TODO:\n",
    "- [x] remove text translation because we found dataset with alternate city and country names."
   ]
  },
  {
   "cell_type": "code",
   "execution_count": null,
   "metadata": {
    "execution": {
     "iopub.execute_input": "2022-11-29T09:56:18.522640Z",
     "iopub.status.busy": "2022-11-29T09:56:18.522275Z",
     "iopub.status.idle": "2022-11-29T09:56:18.530274Z",
     "shell.execute_reply": "2022-11-29T09:56:18.529169Z",
     "shell.execute_reply.started": "2022-11-29T09:56:18.522606Z"
    }
   },
   "outputs": [],
   "source": [
    "all_tweets['location'].values[:100]"
   ]
  },
  {
   "cell_type": "code",
   "execution_count": null,
   "metadata": {
    "execution": {
     "iopub.execute_input": "2022-11-29T09:56:18.532850Z",
     "iopub.status.busy": "2022-11-29T09:56:18.531707Z",
     "iopub.status.idle": "2022-11-29T09:56:18.637380Z",
     "shell.execute_reply": "2022-11-29T09:56:18.636133Z",
     "shell.execute_reply.started": "2022-11-29T09:56:18.532802Z"
    }
   },
   "outputs": [],
   "source": [
    "print(f\"Dataset size before empty locations deletion: {len(all_tweets)}\")\n",
    "all_tweets = all_tweets[all_tweets['location'].notna()]\n",
    "print(f\"Dataset size after empty locations deletion: {len(all_tweets)}\")\n",
    "print(f\"Unique locations size: {all_tweets['location'].unique().shape}\")"
   ]
  },
  {
   "cell_type": "markdown",
   "metadata": {},
   "source": [
    "## Cleaning tweets"
   ]
  },
  {
   "cell_type": "code",
   "execution_count": null,
   "metadata": {
    "execution": {
     "iopub.execute_input": "2022-11-29T09:56:18.639614Z",
     "iopub.status.busy": "2022-11-29T09:56:18.638921Z",
     "iopub.status.idle": "2022-11-29T09:56:18.645364Z",
     "shell.execute_reply": "2022-11-29T09:56:18.644237Z",
     "shell.execute_reply.started": "2022-11-29T09:56:18.639572Z"
    }
   },
   "outputs": [],
   "source": [
    "def clean_text(tweet: str) -> list[str | Any]:\n",
    "    raw_string: str = r'{}'.format(tweet)\n",
    "    demojified: str = re.sub(r\"\\\\u\\S{4}\", '', raw_string)\n",
    "    text: str = \"\".join([letter for letter in demojified if letter not in string.punctuation])\n",
    "    return list(filter(lambda word: word != '', re.split(r'\\W+', text)))"
   ]
  },
  {
   "cell_type": "code",
   "execution_count": null,
   "metadata": {
    "execution": {
     "iopub.execute_input": "2022-11-29T09:56:18.663549Z",
     "iopub.status.busy": "2022-11-29T09:56:18.663246Z",
     "iopub.status.idle": "2022-11-29T09:57:18.207392Z",
     "shell.execute_reply": "2022-11-29T09:57:18.206211Z",
     "shell.execute_reply.started": "2022-11-29T09:56:18.663513Z"
    }
   },
   "outputs": [],
   "source": [
    "all_tweets['text'] = all_tweets['text'].apply(lambda tweet: clean_text(tweet))"
   ]
  },
  {
   "cell_type": "code",
   "execution_count": null,
   "metadata": {
    "execution": {
     "iopub.execute_input": "2022-11-29T09:57:18.227456Z",
     "iopub.status.busy": "2022-11-29T09:57:18.226966Z",
     "iopub.status.idle": "2022-11-29T09:57:19.491572Z",
     "shell.execute_reply": "2022-11-29T09:57:19.490452Z",
     "shell.execute_reply.started": "2022-11-29T09:57:18.227414Z"
    }
   },
   "outputs": [],
   "source": [
    "datacities = pd.read_csv('kaggle/input/geonames-all-cities-with-a-population/geonames-all-cities-with-a-population-1000.csv', sep=';')\n",
    "dicttowns = dict(zip(datacities['Name'], datacities['Country name EN']))\n",
    "countries = set(datacities['Country name EN'])"
   ]
  },
  {
   "cell_type": "code",
   "execution_count": null,
   "metadata": {
    "execution": {
     "iopub.execute_input": "2022-11-29T09:57:19.493212Z",
     "iopub.status.busy": "2022-11-29T09:57:19.492872Z",
     "iopub.status.idle": "2022-11-29T09:57:19.522537Z",
     "shell.execute_reply": "2022-11-29T09:57:19.521271Z",
     "shell.execute_reply.started": "2022-11-29T09:57:19.493180Z"
    }
   },
   "outputs": [],
   "source": [
    "datacities = datacities[['Geoname ID', 'Name', 'ASCII Name', 'Alternate Names', 'Country Code', 'Country name EN']]"
   ]
  },
  {
   "cell_type": "code",
   "execution_count": null,
   "metadata": {
    "execution": {
     "iopub.execute_input": "2022-11-29T09:57:19.525321Z",
     "iopub.status.busy": "2022-11-29T09:57:19.524506Z",
     "iopub.status.idle": "2022-11-29T09:57:19.540758Z",
     "shell.execute_reply": "2022-11-29T09:57:19.539456Z",
     "shell.execute_reply.started": "2022-11-29T09:57:19.525275Z"
    }
   },
   "outputs": [],
   "source": [
    "datacities.head()"
   ]
  },
  {
   "cell_type": "code",
   "execution_count": null,
   "metadata": {
    "execution": {
     "iopub.execute_input": "2022-11-29T09:57:19.542755Z",
     "iopub.status.busy": "2022-11-29T09:57:19.542375Z",
     "iopub.status.idle": "2022-11-29T09:57:19.564261Z",
     "shell.execute_reply": "2022-11-29T09:57:19.562827Z",
     "shell.execute_reply.started": "2022-11-29T09:57:19.542714Z"
    }
   },
   "outputs": [],
   "source": [
    "import json\n",
    "with open('kaggle/input/locations.json') as json_file:\n",
    "    loctranslator: dict = json.load(json_file)\n",
    "all_tweets['location'] = all_tweets['location'].map(loctranslator).fillna('Other')\n",
    "all_tweets.drop(all_tweets[all_tweets['location'] == 'Other'].index, inplace = True)"
   ]
  },
  {
   "cell_type": "markdown",
   "metadata": {},
   "source": [
    "## Plotting"
   ]
  },
  {
   "cell_type": "code",
   "execution_count": null,
   "metadata": {},
   "outputs": [],
   "source": [
    "n_first = 20"
   ]
  },
  {
   "cell_type": "code",
   "execution_count": null,
   "metadata": {
    "execution": {
     "iopub.execute_input": "2022-11-29T09:57:39.860231Z",
     "iopub.status.busy": "2022-11-29T09:57:39.859898Z",
     "iopub.status.idle": "2022-11-29T09:57:40.776901Z",
     "shell.execute_reply": "2022-11-29T09:57:40.775567Z",
     "shell.execute_reply.started": "2022-11-29T09:57:39.860202Z"
    }
   },
   "outputs": [],
   "source": [
    "plt.figure(figsize=(20, 10))\n",
    "sns.barplot(x=all_tweets['language'].value_counts()[:n_first].index, y=all_tweets['language'].value_counts()[:n_first])\n",
    "plt.xticks(rotation=90)\n",
    "plt.yscale(\"log\")\n",
    "plt.show()"
   ]
  },
  {
   "cell_type": "code",
   "execution_count": null,
   "metadata": {
    "execution": {
     "iopub.execute_input": "2022-11-29T09:57:40.779272Z",
     "iopub.status.busy": "2022-11-29T09:57:40.778825Z",
     "iopub.status.idle": "2022-11-29T09:57:41.200819Z",
     "shell.execute_reply": "2022-11-29T09:57:41.199315Z",
     "shell.execute_reply.started": "2022-11-29T09:57:40.779230Z"
    }
   },
   "outputs": [],
   "source": [
    "plt.figure(figsize=(20, 10))\n",
    "plt.pie(x=all_tweets['language'].value_counts()[:n_first], labels=all_tweets['language'].value_counts()[:n_first].index)\n",
    "plt.show()"
   ]
  },
  {
   "cell_type": "code",
   "execution_count": null,
   "metadata": {
    "execution": {
     "iopub.execute_input": "2022-11-29T09:57:41.204076Z",
     "iopub.status.busy": "2022-11-29T09:57:41.203158Z",
     "iopub.status.idle": "2022-11-29T09:57:43.606280Z",
     "shell.execute_reply": "2022-11-29T09:57:43.605453Z",
     "shell.execute_reply.started": "2022-11-29T09:57:41.204002Z"
    }
   },
   "outputs": [],
   "source": [
    "plt.figure(figsize=(15, 20))\n",
    "sns.barplot(y=all_tweets['location'].value_counts()[:n_first].index, x=all_tweets['location'].value_counts()[:n_first])\n",
    "plt.xscale(\"log\")\n",
    "plt.show()"
   ]
  },
  {
   "cell_type": "markdown",
   "metadata": {},
   "source": [
    "We removed records with `Other` locations because there is no appropriate information even though they make up the bulk of the dataset."
   ]
  },
  {
   "cell_type": "code",
   "execution_count": null,
   "metadata": {},
   "outputs": [],
   "source": [
    "other_location_tweets = all_tweets[all_tweets['location'] == 'Other']\n",
    "all_tweets = all_tweets.drop(all_tweets[all_tweets['location'] == 'Other'].index)"
   ]
  },
  {
   "cell_type": "code",
   "execution_count": null,
   "metadata": {
    "execution": {
     "iopub.execute_input": "2022-11-29T09:57:51.620294Z",
     "iopub.status.busy": "2022-11-29T09:57:51.619855Z",
     "iopub.status.idle": "2022-11-29T09:57:51.906977Z",
     "shell.execute_reply": "2022-11-29T09:57:51.905624Z",
     "shell.execute_reply.started": "2022-11-29T09:57:51.620262Z"
    }
   },
   "outputs": [],
   "source": [
    "all_tweets[\"tweetcreatedts\"] = pd.to_datetime(all_tweets[\"tweetcreatedts\"])\n",
    "print(all_tweets[\"tweetcreatedts\"])"
   ]
  },
  {
   "cell_type": "markdown",
   "metadata": {},
   "source": [
    "Let's see "
   ]
  },
  {
   "cell_type": "code",
   "execution_count": null,
   "metadata": {
    "execution": {
     "iopub.execute_input": "2022-11-29T09:58:27.186758Z",
     "iopub.status.busy": "2022-11-29T09:58:27.186364Z",
     "iopub.status.idle": "2022-11-29T09:58:29.084816Z",
     "shell.execute_reply": "2022-11-29T09:58:29.084028Z",
     "shell.execute_reply.started": "2022-11-29T09:58:27.186726Z"
    }
   },
   "outputs": [],
   "source": [
    "grouped_by_time = all_tweets[[\"tweetcreatedts\", \"text\"]].groupby(pd.Grouper(key=\"tweetcreatedts\",freq='H')).size().reset_index()\n",
    "\n",
    "plt.figure(figsize=(20, 15))\n",
    "sns.barplot(data=grouped_by_time, y=\"tweetcreatedts\", x=0)\n",
    "plt.show()"
   ]
  },
  {
   "cell_type": "markdown",
   "metadata": {},
   "source": [
    "Study the anomaly peak on plot between 09:00:00 UTC the 1st of March and the 04:00:00 UTC the 2nd of March."
   ]
  },
  {
   "cell_type": "code",
   "execution_count": null,
   "metadata": {},
   "outputs": [],
   "source": [
    "# TODO. implement study"
   ]
  },
  {
   "cell_type": "markdown",
   "metadata": {},
   "source": [
    "## Curator advices:\n",
    "- [ ] Consider 2 sides of the conflict - Ukraine and Russia (means analyze reactions from both sides)\n",
    "- [ ] Look at countries-satelites reaction (both for Ukraine and Russia)\n",
    "- [ ] Take into account that there are refugees, which can distort some data (for example, Ukrainian refugees in Poland are still Ukrainians, but can change their account information, because Twitter doesn't verify all user info)\n",
    "- [ ] Analyze reaction of people in G20 countries and other aliances.\n",
    "    Aliances to take into account:\n",
    "    - G20\n",
    "    - complete it later :)"
   ]
  },
  {
   "cell_type": "markdown",
   "metadata": {},
   "source": [
    "### Group tweets by language"
   ]
  },
  {
   "cell_type": "code",
   "execution_count": null,
   "metadata": {},
   "outputs": [],
   "source": [
    "datasets_by_language = {}\n",
    "for language in all_tweets['language'].unique():\n",
    "    datasets_by_language[language] = all_tweets[all_tweets['language'] == language]\n"
   ]
  },
  {
   "cell_type": "markdown",
   "metadata": {},
   "source": [
    "### Extract Ukrainian and Russian tweets from dataset\n",
    "As Ukrainians are bilinguals (detailed study [The History of Bilingualism in Ukraine and Its Role in the Present Day Political Crisis](https://www.cairn-int.info/article-E_CSP_017_0203--the-history-of-bilingualism-in-ukraine.htm)) we firstly extracted tweets by language and then separate it by tweeters locations."
   ]
  },
  {
   "cell_type": "code",
   "execution_count": null,
   "metadata": {},
   "outputs": [],
   "source": [
    "ukrainian_tweets = datasets_by_language['uk']\n",
    "russian_tweets = datasets_by_language['ru']"
   ]
  },
  {
   "cell_type": "code",
   "execution_count": null,
   "metadata": {},
   "outputs": [],
   "source": [
    "plt.figure(figsize=(20, 10))\n",
    "fig, ax = plt.subplots(1, 2, figsize=(20, 10))\n",
    "ax[0].pie(ukrainian_tweets['location'].value_counts()[:n_first], labels=ukrainian_tweets['location'].value_counts().index[:n_first])\n",
    "ax[0].set_title('Ukrainian tweets locations')\n",
    "ax[1].pie(russian_tweets['location'].value_counts()[:n_first], labels=russian_tweets['location'].value_counts().index[:n_first])\n",
    "ax[1].set_title('Russian tweets locations')\n",
    "plt.show()"
   ]
  },
  {
   "cell_type": "code",
   "execution_count": null,
   "metadata": {},
   "outputs": [],
   "source": [
    "g20_dict: dict[str, list[str]] = {\n",
    "    'g1': ['Australia', 'Canada', 'Saudi Arabia', 'United States'],\n",
    "    'g2': ['India', 'Russia', 'South Africa', 'Turkey'],\n",
    "    'g3': ['Argentina', 'Brazil', 'Mexico'],\n",
    "    'g4': ['France', 'Germany', 'Italy', 'United Kingdom']\n",
    "}\n",
    "g20_list: list[str] = [\n",
    "    'Argentina', 'Australia', 'Brazil', 'Canada',\n",
    "    'China', 'France', 'Germany', 'India',\n",
    "    'Indonesia', 'Italy', 'South Korea', 'Japan',\n",
    "    'Mexico', 'Russia', 'Saudi Arabia', 'South Africa',\n",
    "    'Turkey', 'the United Kingdom', 'United States', 'European Union'\n",
    "]"
   ]
  }
 ],
 "metadata": {
  "kernelspec": {
   "display_name": "Python 3 (ipykernel)",
   "language": "python",
   "name": "python3"
  },
  "language_info": {
   "codemirror_mode": {
    "name": "ipython",
    "version": 3
   },
   "file_extension": ".py",
   "mimetype": "text/x-python",
   "name": "python",
   "nbconvert_exporter": "python",
   "pygments_lexer": "ipython3",
   "version": "3.9.12"
  },
  "vscode": {
   "interpreter": {
    "hash": "fa355a8b28c1c2f0ff80746a4a48da57c501b8fa6582c022af1f51d5837067a2"
   }
  }
 },
 "nbformat": 4,
 "nbformat_minor": 4
}
